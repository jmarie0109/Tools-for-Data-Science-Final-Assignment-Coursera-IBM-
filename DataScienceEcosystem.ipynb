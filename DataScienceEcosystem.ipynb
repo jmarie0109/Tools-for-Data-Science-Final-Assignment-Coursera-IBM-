{
 "cells": [
  {
   "cell_type": "markdown",
   "id": "f4702d6c",
   "metadata": {},
   "source": [
    "# Data Science Tools and Ecosystem"
   ]
  },
  {
   "cell_type": "markdown",
   "id": "397f46d7",
   "metadata": {},
   "source": [
    "This notebook summarizes the data science ecosystem and tools."
   ]
  },
  {
   "cell_type": "markdown",
   "id": "41034d02",
   "metadata": {},
   "source": [
    "Some of the popular languages that data scientists use are:\n",
    "    1. R\n",
    "    2. Python\n",
    "    3. SQL\n",
    "    4. Scala\n",
    "    5. Java\n",
    "    6. C++\n",
    "    "
   ]
  },
  {
   "cell_type": "markdown",
   "id": "5b2185a6",
   "metadata": {},
   "source": [
    "Some of the libraries commonly used by data scientists include:\n",
    "    1. Pandas\n",
    "    2. NumPy\n",
    "    3. Matplotlib\n",
    "    4. Seaborn\n",
    "    5. Scikit-learn\n",
    "    6. Keras\n",
    "    7.TensorFlow\n",
    "    8. PyTorch\n",
    "    9. Apache Spark\n",
    "    10. Vegas\n",
    "    11. ggplot2"
   ]
  },
  {
   "cell_type": "markdown",
   "id": "6c2691bd",
   "metadata": {},
   "source": [
    "| Data Science Tools |\n",
    "| ------------------ |\n",
    "| JupiterLite |\n",
    "| Google Colab |\n",
    "| VS Code |\n"
   ]
  },
  {
   "cell_type": "markdown",
   "id": "b27a67fc",
   "metadata": {},
   "source": [
    "### Below are a few examples of evaluating arithmetic expressions in Python."
   ]
  },
  {
   "cell_type": "code",
   "execution_count": 2,
   "id": "9dac32c6",
   "metadata": {},
   "outputs": [
    {
     "data": {
      "text/plain": [
       "17"
      ]
     },
     "execution_count": 2,
     "metadata": {},
     "output_type": "execute_result"
    }
   ],
   "source": [
    "# This is a simple arithmetic expression to multiply then add integers.\n",
    "\n",
    "(3*4)+5"
   ]
  },
  {
   "cell_type": "code",
   "execution_count": 3,
   "id": "360b42b4",
   "metadata": {},
   "outputs": [
    {
     "data": {
      "text/plain": [
       "3.3333333333333335"
      ]
     },
     "execution_count": 3,
     "metadata": {},
     "output_type": "execute_result"
    }
   ],
   "source": [
    "# This will convert 200 minutes to hours by diving by 60.\n",
    "\n",
    "200/60"
   ]
  },
  {
   "cell_type": "markdown",
   "id": "e07a6e01",
   "metadata": {},
   "source": [
    "**Objectives**\n",
    "- List popular languages for data science\n",
    "- List popular data science packages\n",
    "- List development environment data science tools\n",
    "- Perform arithmetic calculations in Python"
   ]
  },
  {
   "cell_type": "markdown",
   "id": "2bbe073b",
   "metadata": {},
   "source": [
    "## Author\n",
    "Jennifer M"
   ]
  }
 ],
 "metadata": {
  "kernelspec": {
   "display_name": "Python 3 (ipykernel)",
   "language": "python",
   "name": "python3"
  },
  "language_info": {
   "codemirror_mode": {
    "name": "ipython",
    "version": 3
   },
   "file_extension": ".py",
   "mimetype": "text/x-python",
   "name": "python",
   "nbconvert_exporter": "python",
   "pygments_lexer": "ipython3",
   "version": "3.9.16"
  }
 },
 "nbformat": 4,
 "nbformat_minor": 5
}
