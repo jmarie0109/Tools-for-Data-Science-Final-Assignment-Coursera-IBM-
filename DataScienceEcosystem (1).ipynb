{
 "cells": [
  {
   "cell_type": "markdown",
   "id": "fd5ca939",
   "metadata": {},
   "source": [
    "# Data Science Tools and Ecosystem"
   ]
  },
  {
   "cell_type": "markdown",
   "id": "39b50be0",
   "metadata": {},
   "source": [
    "This notebook summarizes the data science ecosystem and tools."
   ]
  },
  {
   "cell_type": "markdown",
   "id": "bfb4eae8",
   "metadata": {},
   "source": [
    "Some of the popular languages that data scientists use are:\n",
    "    \n",
    "    1. R\n",
    "    2. Python\n",
    "    3. SQL\n",
    "    4. Scala\n",
    "    5. Java\n",
    "    6. C++\n",
    "    "
   ]
  },
  {
   "cell_type": "markdown",
   "id": "ea3d53aa",
   "metadata": {},
   "source": [
    "Some of the libraries commonly used by data scientists include:\n",
    "\n",
    "    1. Pandas\n",
    "    2. NumPy\n",
    "    3. Matplotlib\n",
    "    4. Seaborn\n",
    "    5. Scikit-learn\n",
    "    6. Keras\n",
    "    7.TensorFlow\n",
    "    8. PyTorch\n",
    "    9. Apache Spark\n",
    "    10. Vegas\n",
    "    11. ggplot2"
   ]
  },
  {
   "cell_type": "markdown",
   "id": "1f65af28",
   "metadata": {},
   "source": [
    "| Data Science Tools |\n",
    "| ------------------ |\n",
    "| JupiterLite |\n",
    "| Google Colab |\n",
    "| VS Code |\n"
   ]
  },
  {
   "cell_type": "markdown",
   "id": "521a29a4",
   "metadata": {},
   "source": [
    "### Below are a few examples of evaluating arithmetic expressions in Python."
   ]
  },
  {
   "cell_type": "code",
   "execution_count": 2,
   "id": "8a7040fb",
   "metadata": {},
   "outputs": [
    {
     "data": {
      "text/plain": [
       "17"
      ]
     },
     "execution_count": 2,
     "metadata": {},
     "output_type": "execute_result"
    }
   ],
   "source": [
    "# This is a simple arithmetic expression to multiply then add integers.\n",
    "\n",
    "(3*4)+5"
   ]
  },
  {
   "cell_type": "code",
   "execution_count": 3,
   "id": "ccaaf352",
   "metadata": {},
   "outputs": [
    {
     "data": {
      "text/plain": [
       "3.3333333333333335"
      ]
     },
     "execution_count": 3,
     "metadata": {},
     "output_type": "execute_result"
    }
   ],
   "source": [
    "# This will convert 200 minutes to hours by diving by 60.\n",
    "\n",
    "200/60"
   ]
  },
  {
   "cell_type": "markdown",
   "id": "40c85bb5",
   "metadata": {},
   "source": [
    "**Objectives**\n",
    "- List popular languages for data science\n",
    "- List popular data science packages\n",
    "- List development environment data science tools\n",
    "- Perform arithmetic calculations in Python"
   ]
  },
  {
   "cell_type": "markdown",
   "id": "74e17433",
   "metadata": {},
   "source": [
    "## Author\n",
    "Jennifer M"
   ]
  }
 ],
 "metadata": {
  "kernelspec": {
   "display_name": "Python 3 (ipykernel)",
   "language": "python",
   "name": "python3"
  },
  "language_info": {
   "codemirror_mode": {
    "name": "ipython",
    "version": 3
   },
   "file_extension": ".py",
   "mimetype": "text/x-python",
   "name": "python",
   "nbconvert_exporter": "python",
   "pygments_lexer": "ipython3",
   "version": "3.9.16"
  }
 },
 "nbformat": 4,
 "nbformat_minor": 5
}
